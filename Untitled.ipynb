{
 "cells": [
  {
   "cell_type": "markdown",
   "id": "0fd1e846",
   "metadata": {},
   "source": [
    "# Tempest\n",
    "TP"
   ]
  },
  {
   "cell_type": "markdown",
   "id": "c4852d78",
   "metadata": {},
   "source": [
    "3.1 Loading a complex signal and analyse it"
   ]
  },
  {
   "cell_type": "markdown",
   "id": "dd63c4ba",
   "metadata": {},
   "source": [
    "Include"
   ]
  },
  {
   "cell_type": "code",
   "execution_count": 3,
   "id": "13bcdaf3",
   "metadata": {},
   "outputs": [],
   "source": [
    "\n",
    "from IPython.display import clear_output\n",
    "import numpy as np\n",
    "import scipy.signal as sg\n",
    "from scipy.fft import fft, ifft\n",
    "import matplotlib.pyplot as plt\n",
    "from PIL import Image\n",
    "import math\n"
   ]
  },
  {
   "cell_type": "markdown",
   "id": "1e2fbce2",
   "metadata": {},
   "source": [
    "Chargement du signal"
   ]
  },
  {
   "cell_type": "code",
   "execution_count": 4,
   "id": "72098ca5",
   "metadata": {},
   "outputs": [],
   "source": [
    "# chargement du fichier binaire du signal\n",
    "sig = np.fromfile('/home/mouha/SNUM3/TempestSDR_runtimeApplication/dumpIQ_0.dat', dtype=np.csingle) "
   ]
  },
  {
   "cell_type": "code",
   "execution_count": 5,
   "id": "815dfdb9",
   "metadata": {},
   "outputs": [],
   "source": [
    "# déclaration des constantes\n",
    "Fs=20e6"
   ]
  },
  {
   "cell_type": "markdown",
   "id": "a694e5b1",
   "metadata": {},
   "source": [
    "2. The leakage implies that the RGB is modulated using an amplitude modulation. Writer the python line that demodulates the signal. As a reminder, an amplitude modulation impliesthat the information is not on the phase of the signal but only on its envelop (i.e modulus)."
   ]
  },
  {
   "cell_type": "code",
   "execution_count": 6,
   "id": "737ccfdd",
   "metadata": {},
   "outputs": [],
   "source": [
    "# extraire la valeur absolue du signal (l'enveloppe)\n",
    "sig_abs = np.abs(sig)"
   ]
  },
  {
   "cell_type": "markdown",
   "id": "98c3e617",
   "metadata": {},
   "source": [
    "3. If no leakage were here, we should have only stores noise. How should be the signal spectrum\n",
    "if only noise were there ? You can find below the python skeleton of a simple power spectral\n",
    "density estimator. This function should be applied on the complex signal."
   ]
  },
  {
   "cell_type": "code",
   "execution_count": 7,
   "id": "4216efc7",
   "metadata": {},
   "outputs": [],
   "source": [
    "def mag2db(sig):\n",
    "# Simple magnitude to Decibel convertion using array ... comprehension \n",
    "    return [10*math.log10(x) for x in sig]\n",
    "\n",
    "def delay_to_rate(delay):\n",
    "    return 1 / delay\n",
    "\n",
    "def rate_to_delay(rate):\n",
    "    return 1 / rate\n",
    "\n",
    "def delay_to_index(delay):\n",
    "    return delay*Fs\n",
    "\n",
    "def index_to_delay(index):\n",
    "    return index/Fs\n"
   ]
  },
  {
   "cell_type": "markdown",
   "id": "5353010b",
   "metadata": {},
   "source": [
    "Si on avait que du bruit, alors on aurait observer une densité de puissance constante."
   ]
  },
  {
   "cell_type": "code",
   "execution_count": 8,
   "id": "efdb71cf",
   "metadata": {},
   "outputs": [],
   "source": [
    "def spectralAnalysis_correlate(sig):\n",
    "    c = sg.correlate(sig, sig, mode='same')\n",
    "    y = np.abs(fft(c)) ** 2  # Module carré\n",
    "    Y = mag2db(y)  # Conversion en dB\n",
    "\n",
    "    # afficher le spectre\n",
    "    fig, ax = plt.subplots()\n",
    "    plt.plot(Y)\n",
    "    ax.set_xlabel('Fréquence (Hz)')\n",
    "    ax.set_ylabel('Densité spectrale de puissance (dB)')\n",
    "    plt.show()"
   ]
  },
  {
   "cell_type": "code",
   "execution_count": 9,
   "id": "318d97b2",
   "metadata": {},
   "outputs": [
    {
     "data": {
      "image/png": "[encoded data removed]",
      "text/plain": [
       "<Figure size 432x288 with 1 Axes>"
      ]
     },
     "metadata": {
      "needs_background": "light"
     },
     "output_type": "display_data"
    }
   ],
   "source": [
    "spectralAnalysis_correlate(sig)"
   ]
  },
  {
   "cell_type": "markdown",
   "id": "af5dbd3c",
   "metadata": {},
   "source": [
    "3.2 Trouver la fréquence de rafraichissement de l'écran"
   ]
  },
  {
   "cell_type": "markdown",
   "id": "b695986f",
   "metadata": {},
   "source": [
    "3.2.2 On utilise maintenant la fonction d'autocorrelation circulaire"
   ]
  },
  {
   "cell_type": "code",
   "execution_count": 33,
   "id": "74c91281",
   "metadata": {},
   "outputs": [],
   "source": [
    "# Fonction d'autocorrelation circulaire\n",
    "def autocorr_circ(signal):\n",
    "    X = np.fft.fft(signal)\n",
    "    X_conj = np.conjugate(X)\n",
    "    autocorr_freq = (X * X_conj)  # Autocorrelation en fréquentiel\n",
    "    autocorr      = np.fft.ifft(autocorr_freq)\n",
    "    return np.abs(autocorr)"
   ]
  },
  {
   "cell_type": "code",
   "execution_count": 34,
   "id": "e33e403f",
   "metadata": {},
   "outputs": [],
   "source": [
    "autocorrelation =  autocorr_circ(sig_abs)"
   ]
  },
  {
   "cell_type": "markdown",
   "id": "c72f08fc",
   "metadata": {},
   "source": [
    "3.2.3 On affiche le résultat"
   ]
  },
  {
   "cell_type": "code",
   "execution_count": 35,
   "id": "445f7f85",
   "metadata": {},
   "outputs": [
    {
     "data": {
      "image/png": "[encoded data removed]",
      "text/plain": [
       "<Figure size 432x288 with 1 Axes>"
      ]
     },
     "metadata": {
      "needs_background": "light"
     },
     "output_type": "display_data"
    }
   ],
   "source": [
    "plt.plot(autocorrelation)\n",
    "plt.title('Autocorrélation circulaire du signal')\n",
    "plt.xlabel('Lag')\n",
    "plt.ylabel('Autocorrélation')\n",
    "\n",
    "plt.show()"
   ]
  },
  {
   "cell_type": "markdown",
   "id": "cc66d6f9",
   "metadata": {},
   "source": [
    "3.2.4 On visualise l'autocrrélation du signal sur une fenetre en milisecond "
   ]
  },
  {
   "cell_type": "code",
   "execution_count": 52,
   "id": "b49ffef4",
   "metadata": {},
   "outputs": [
    {
     "data": {
      "image/png": "[encoded data removed]",
      "text/plain": [
       "<Figure size 432x288 with 1 Axes>"
      ]
     },
     "metadata": {
      "needs_background": "light"
     },
     "output_type": "display_data"
    }
   ],
   "source": [
    "# Nombre d'échantillons\n",
    "N = len(autocorrelation)\n",
    "lags = np.arange(N)/Fs*1000\n",
    "\n",
    "# autocorrélation  en millisecondes\n",
    "plt.plot(lags, autocorrelation)\n",
    "plt.title('Autocorrélation vs Lags (en ms)')\n",
    "plt.xlabel('Lags (ms)')\n",
    "plt.ylabel('Autocorrélation')\n",
    "plt.show()"
   ]
  },
  {
   "cell_type": "markdown",
   "id": "831043ea",
   "metadata": {},
   "source": [
    "3.2.5 Zoom sur (40 Hz - 100 Hz) "
   ]
  },
  {
   "cell_type": "code",
   "execution_count": 41,
   "id": "4670e6e8",
   "metadata": {},
   "outputs": [
    {
     "data": {
      "image/png": "[encoded data removed]",
      "text/plain": [
       "<Figure size 432x288 with 1 Axes>"
      ]
     },
     "metadata": {
      "needs_background": "light"
     },
     "output_type": "display_data"
    }
   ],
   "source": [
    "delay_40Hz = 1 / 40   # en ms\n",
    "delay_100Hz = 1 / 100   # en ms\n",
    "\n",
    "# Extraire la zone d'intérêt\n",
    "zoomed_indices = np.where((lags >= delay_100Hz) & (lags <= delay_40Hz))[0]\n",
    "zoomed_autocorr = autocorrelation[zoomed_indices]\n",
    "zoomed_lags = lags[zoomed_indices]\n",
    "\n",
    "# autocorrelation sur la 40Hz - 100Hz\n",
    "plt.plot(zoomed_lags, zoomed_autocorr)\n",
    "plt.title('Zoom Autocorrélation (40 Hz à 100 Hz)')\n",
    "plt.xlabel('Lags (ms)')\n",
    "plt.ylabel('Autocorrélation')\n",
    "plt.show()"
   ]
  },
  {
   "cell_type": "markdown",
   "id": "c9da6ca7",
   "metadata": {},
   "source": [
    "On regarde entre 40 et 100Hz pour trouver la fréquence de rafraichissement de l'écran. Elle correspond au deuxieme pic dans la fonction d'autocorrélation qui manifeste une répétition d'un motif dans le signal."
   ]
  },
  {
   "cell_type": "code",
   "execution_count": 74,
   "id": "277d1422",
   "metadata": {},
   "outputs": [
    {
     "name": "stdout",
     "output_type": "stream",
     "text": [
      "min =  2625000\n",
      "max =  2925000\n",
      "60.14422585359693\n",
      "2792466\n"
     ]
    }
   ],
   "source": [
    "#refreshrate\n",
    "y = list(autocorrelation)\n",
    "abs_x = list(Fs/np.arange(N , 1 , -1))\n",
    "min = int(abs_x.index(40))\n",
    "max = int(abs_x.index(100))\n",
    "print(\"min = \" , min)\n",
    "print(\"max = \" , max)\n",
    "\n",
    "abs_X = abs_x[min : max]\n",
    "abs_Y = y[min : max]\n",
    "\n",
    "freq_refresh = abs_X[np.argmax(abs_Y)]\n",
    "print(freq_refresh)\n"
   ]
  },
  {
   "cell_type": "markdown",
   "id": "8ea1bcf2",
   "metadata": {},
   "source": [
    "3.3 Configuration de l'écran"
   ]
  },
  {
   "cell_type": "markdown",
   "id": "2341efda",
   "metadata": {},
   "source": [
    "On affiche l'autocorrélation autour du max"
   ]
  },
  {
   "cell_type": "code",
   "execution_count": 69,
   "id": "28abc272",
   "metadata": {},
   "outputs": [
    {
     "name": "stdout",
     "output_type": "stream",
     "text": [
      "indice 0s 0\n",
      "indice 40us 800\n"
     ]
    }
   ],
   "source": [
    "# Calcul des délais\n",
    "index_0    = int(delay_to_index(0))\n",
    "index_40us = int(delay_to_index(40e-6))\n",
    "\n",
    "print(\"indice 0s\" , index_0)\n",
    "print(\"indice 40us\" , index_40us)\n",
    "\n",
    "subvector_auto       = autocorr_circ( sig_abs )\n",
    "zoomed_autocorr      = subvector_auto[ index_0 : index_40us]\n",
    "subvector_lags_zoom  = lags[index_0 : index_40us]"
   ]
  },
  {
   "cell_type": "code",
   "execution_count": 78,
   "id": "9ea4482f",
   "metadata": {},
   "outputs": [
    {
     "data": {
      "image/png": "[encoded data removed]",
      "text/plain": [
       "<Figure size 432x288 with 1 Axes>"
      ]
     },
     "metadata": {
      "needs_background": "light"
     },
     "output_type": "display_data"
    }
   ],
   "source": [
    "# autocorrelation sur la 40Hz - 100Hz\n",
    "plt.plot(subvector_lags_zoom, zoomed_autocorr)\n",
    "plt.title('Zoom Autocorrélation (0 et 40us)')\n",
    "plt.xlabel('Lags s')\n",
    "plt.ylabel('Autocorrélation')\n",
    "plt.show()"
   ]
  },
  {
   "cell_type": "markdown",
   "id": "ae44ae3e",
   "metadata": {},
   "source": [
    "3.3.2 Mesure du temps entre les deux maximum"
   ]
  },
  {
   "cell_type": "code",
   "execution_count": 102,
   "id": "66ea91ca",
   "metadata": {},
   "outputs": [
    {
     "name": "stdout",
     "output_type": "stream",
     "text": [
      "min =  1\n",
      "max =  800\n",
      "premier max a 0 =  15.63613809206134\n",
      "deuxième max =  0.013349999999999999\n"
     ]
    }
   ],
   "source": [
    "zoomed_autocorr_list     = list(zoomed_autocorr)\n",
    "subvector_lags_zoom_list = list(subvector_lags_zoom)\n",
    "\n",
    "min = 1 # pour chercher le deuxième maximum\n",
    "max = len(subvector_lags_zoom_list)\n",
    "print(\"min = \" , min)\n",
    "print(\"max = \" , max)\n",
    "print(\"premier max a 0 = \", zoomed_autocorr_list[0])\n",
    "\n",
    "abs_X = subvector_lags_zoom_list[min + 1 : max]\n",
    "abs_Y = zoomed_autocorr_list[min +1 : max]\n",
    "\n",
    "max_2 = subvector_lags_zoom_list[np.argmax(abs_Y)]\n",
    "print(\"deuxième max = \" , max_2)"
   ]
  },
  {
   "cell_type": "markdown",
   "id": "f0c1003b",
   "metadata": {},
   "source": [
    "Le deuxième maximum est donc à **0.0133 ms**"
   ]
  },
  {
   "cell_type": "markdown",
   "id": "d32cb29d",
   "metadata": {},
   "source": [
    "3.3.3 La valeur de _yt_  \n",
    "On a $$ y~t~ = {1 \\over (tpeak * f~v~)}$$  "
   ]
  },
  {
   "cell_type": "code",
   "execution_count": 115,
   "metadata": {},
   "outputs": [
    {
     "name": "stdout",
     "output_type": "stream",
     "text": [
      "Le nombre de ligne en pixel est yt =  1245\n"
     ]
    }
   ],
   "source": [
    "yt = int(1 /(max_2 * freq_refresh)*1000) #pour convertir en seconde\n",
    "print(\"Le nombre de ligne en pixel est yt = \" , yt)"
   ]
  },
  {
   "cell_type": "markdown",
   "id": "231119d2",
   "metadata": {},
   "source": [
    "3.3.4 Dictionnaire"
   ]
  },
  {
   "cell_type": "code",
   "execution_count": 114,
   "id": "81535bfd",
   "metadata": {},
   "outputs": [],
   "source": [
    "# Defining the Class\n",
    "class VideoMode:\n",
    "    def __init__(self, x_t, y_t, refresh_rate):\n",
    "        self.refresh_rate = refresh_rate\n",
    "        self.x_t = x_t\n",
    "        self.y_t = y_t\n",
    "# Create the dictionnary with all the supported configurations\n",
    "video_modes = {\n",
    "\"640x400 @ 85Hz\": VideoMode(832, 445, 85),\n",
    "\"720x400 @ 85Hz\": VideoMode(936, 446, 85),\n",
    "\"640x480 @ 60Hz\": VideoMode(800, 525, 60),\n",
    "\"640x480 @ 100Hz\": VideoMode(848, 509, 100),\n",
    "\"640x480 @ 72Hz\": VideoMode(832, 520, 72),\n",
    "\"640x480 @ 75Hz\": VideoMode(840, 500, 75),\n",
    "\"640x480 @ 85Hz\": VideoMode(832, 509, 85),\n",
    "\"768x576 @ 60 Hz\": VideoMode(976, 597, 60),\n",
    "\"768x576 @ 72 Hz\": VideoMode(992, 601, 72),\n",
    "\"768x576 @ 75 Hz\": VideoMode(1008, 602, 75),\n",
    "\"768x576 @ 85 Hz\": VideoMode(1008, 605, 85),\n",
    "\"768x576 @ 100 Hz\": VideoMode(1024, 611, 100),\n",
    "\"800x600 @ 56Hz\": VideoMode(1024, 625, 56),\n",
    "\"800x600 @ 60Hz\": VideoMode(1056, 628, 60),\n",
    "\"800x600 @ 72Hz\": VideoMode(1040, 666, 72),\n",
    "\"800x600 @ 75Hz\": VideoMode(1056, 625, 75),\n",
    "\"800x600 @ 85Hz\": VideoMode(1048, 631, 85),\n",
    "\"800x600 @ 100Hz\": VideoMode(1072, 636, 100),\n",
    "\"1024x600 @ 60 Hz\": VideoMode(1312, 622, 60),\n",
    "\"1024x768i @ 43Hz\": VideoMode(1264, 817, 43),\n",
    "\"1024x768 @ 60Hz\": VideoMode(1344, 806, 60),\n",
    "\"1024x768 @ 70Hz\": VideoMode(1328, 806, 70),\n",
    "\"1024x768 @ 75Hz\": VideoMode(1312, 800, 75),\n",
    "\"1024x768 @ 85Hz\": VideoMode(1376, 808, 85),\n",
    "\"1024x768 @ 100Hz\": VideoMode(1392, 814, 100),\n",
    "\"1024x768 @ 120Hz\": VideoMode(1408, 823, 120),\n",
    "\"1152x864 @ 60Hz\": VideoMode(1520, 895, 60),\n",
    "\"1152x864 @ 75Hz\" : VideoMode( 1600, 900 , 75),\n",
    "\"1152x864 @ 85Hz\" :VideoMode( 1552, 907 , 85),\n",
    "\"1152x864 @ 100Hz\" :VideoMode( 1568, 915 , 100),\n",
    "\"1280x768 @ 60 Hz\" :VideoMode( 1680, 795 , 60),\n",
    "\"1280x800 @ 60 Hz\" :VideoMode( 1680, 828 , 60),\n",
    "\"1280x960 @ 60Hz\" :VideoMode( 1800, 1000, 60),\n",
    "\"1280x960 @ 75Hz\" :VideoMode( 1728, 1002, 75),\n",
    "\"1280x960 @ 85Hz\" :VideoMode( 1728, 1011, 85),\n",
    "\"1280x960 @ 100Hz\" :VideoMode( 1760, 1017, 100),\n",
    "\"1280x1024 @ 60Hz\" :VideoMode( 1688, 1066, 60),\n",
    "\"1280x1024 @ 75Hz\" :VideoMode( 1688, 1066, 75),\n",
    "\"1280x1024 @ 85Hz\" :VideoMode( 1728, 1072, 85),\n",
    "\"1280x1024 @ 100Hz\":VideoMode( 1760, 1085, 100),\n",
    "\"1280x1024 @ 120Hz\":VideoMode( 1776, 1097, 120),\n",
    "\"1368x768 @ 60 Hz\" :VideoMode( 1800, 795 , 60),\n",
    "\"1400x1050 @ 60Hz\" :VideoMode( 1880, 1082, 60),\n",
    "\"1400x1050 @ 72 Hz\":VideoMode( 1896, 1094, 72),\n",
    "\"1400x1050 @ 75 Hz\":VideoMode( 1896, 1096, 75),\n",
    "\"1400x1050 @ 85 Hz\":VideoMode( 1912, 1103, 85),\n",
    "\"1400x1050 @ 100 Hz\":VideoMode( 1928, 1112, 100),\n",
    "\"1440x900 @ 60 Hz\" :VideoMode( 1904, 932 , 60),\n",
    "\"1440x1050 @ 60 Hz\":VideoMode( 1936, 1087, 60),\n",
    "\"1600x1000 @ 60Hz\" :VideoMode( 2144, 1035, 60),\n",
    "\"1600x1000 @ 75Hz\" :VideoMode( 2160, 1044, 75),\n",
    "\"1600x1000 @ 85Hz\" :VideoMode( 2176, 1050, 85),\n",
    "\"1600x1000 @ 100Hz\":VideoMode( 2192, 1059, 100),\n",
    "\"1600x1024 @ 60Hz\" :VideoMode( 2144, 1060, 60),\n",
    "\"1600x1024 @ 75Hz\" :VideoMode( 2176, 1069, 75),\n",
    "\"1600x1024 @ 76Hz\" :VideoMode( 2096, 1070, 76),\n",
    "\"1600x1024 @ 85Hz\" :VideoMode( 2176, 1075, 85),\n",
    "\"1600x1200 @ 60Hz\" :VideoMode( 2160, 1250, 60),\n",
    "\"1600x1200 @ 65Hz\" :VideoMode( 2160, 1250, 65),\n",
    "\"1600x1200 @ 70Hz\" :VideoMode( 2160, 1250, 70),\n",
    "\"1600x1200 @ 75Hz\" :VideoMode( 2160, 1250, 75),\n",
    "\"1600x1200 @ 85Hz\" :VideoMode( 2160, 1250, 85),\n",
    "\"1600x1200 @ 100 Hz\":VideoMode( 2208, 1271, 100),\n",
    "\"1680x1050 @ 60Hz (reduced blanking)\":VideoMode( 1840, 1080, 60),\n",
    "\"1680x1050 @ 60Hz (non-interlaced)\":VideoMode( 2240,1089, 60),\n",
    "\"1680x1050 @ 60 Hz\":VideoMode( 2256, 1087, 60),\n",
    "\"1792x1344 @ 60Hz\" :VideoMode( 2448, 1394, 60),\n",
    "\"1792x1344 @ 75Hz\" :VideoMode( 2456, 1417, 75),\n",
    "\"1856x1392 @ 60Hz\" :VideoMode( 2528, 1439, 60),\n",
    "\"1856x1392 @ 75Hz\" :VideoMode( 2560, 1500, 75),\n",
    "\"1920x1080 @ 60Hz\" :VideoMode( 2576, 1125, 60),\n",
    "\"1920x1080 @ 75Hz\" :VideoMode( 2608, 1126, 75),\n",
    "\"1920x1200 @ 60Hz\" :VideoMode( 2592, 1242, 60),\n",
    "\"1920x1200 @ 75Hz\" :VideoMode( 2624, 1253, 75),\n",
    "\"1920x1440 @ 60Hz\" :VideoMode( 2600, 1500, 60),\n",
    "\"1920x1440 @ 75Hz\" :VideoMode( 2640, 1500, 75),\n",
    "\"1920x2400 @ 25Hz\" :VideoMode( 2048, 2434, 25),\n",
    "\"1920x2400 @ 30Hz\" :VideoMode( 2044, 2434, 30),\n",
    "\"2048x1536 @ 60Hz\" :VideoMode( 2800, 1589, 60)\n",
    "}"
   ]
  },
  {
   "cell_type": "code",
   "execution_count": null,
   "id": "531c3b95",
   "metadata": {},
   "outputs": [],
   "source": [
    "def find_closest(dictionary, value, fv):\n",
    "    #Find the key in a dictionary that has the closest value ...\n",
    "    #to the given value.\n",
    "    closest_key = None\n",
    "    closest_conf = None\n",
    "    closest_fv = None\n",
    "    min_fv = float('inf')\n",
    "    min_distance = float('inf')\n",
    "    for key, val in dictionary.items():\n",
    "        # Compute Euclidean distance between our y_t and the ...\n",
    "        #real from the configuration\n",
    "        distance = abs(value - val.y_t)\n",
    "        if distance < min_distance:\n",
    "            # A new challenger for minimal gap between y_t and ...\n",
    "            #what we have ==> Update the chosen key and ...\n",
    "            #configuration, and the min_distance\n",
    "            min_distance = distance\n",
    "            closest_key  = key\n",
    "            closest_conf = val\n",
    "            min_fv       = abs(fv - val.refresh_rate)\n",
    "        elif distance == min_distance:\n",
    "            # If configuration is the same, overwrite if the ...\n",
    "            #rate is closer\n",
    "            d_f = abs(fv - val.refresh_rate) #fifférence de fréquence\n",
    "            if d_f < min_fv:\n",
    "                min_fv = d_f\n",
    "                closest_key  = key\n",
    "                closest_conf = val      \n",
    "    return closest_key,closest_conf"
   ]
  },
  {
   "cell_type": "markdown",
   "id": "4c1ae18d",
   "metadata": {},
   "source": []
  }
 ],
 "metadata": {
  "kernelspec": {
   "display_name": "Python 3",
   "language": "python",
   "name": "python3"
  },
  "language_info": {
   "codemirror_mode": {
    "name": "ipython",
    "version": 3
   },
   "file_extension": ".py",
   "mimetype": "text/x-python",
   "name": "python",
   "nbconvert_exporter": "python",
   "pygments_lexer": "ipython3",
   "version": "3.10.12"
  }
 },
 "nbformat": 4,
 "nbformat_minor": 5
}
